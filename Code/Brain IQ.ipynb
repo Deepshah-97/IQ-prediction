{
 "cells": [
  {
   "cell_type": "markdown",
   "id": "94b50990",
   "metadata": {},
   "source": [
    "# Analysis of IQ with Gender"
   ]
  },
  {
   "cell_type": "markdown",
   "id": "4c00aa78",
   "metadata": {},
   "source": [
    "# ABSTRACT"
   ]
  },
  {
   "cell_type": "markdown",
   "id": "b21ce7b3",
   "metadata": {},
   "source": [
    "The research paper investigated the genetic influences on the size and shape of the human forebrain and its subdivisions in monozygotic (MZ) twins using MRI and quantitative image analysis techniques. The researchers found significant effects of genotype on forebrain volume, cortical surface area, and callosal area, as well as head circumference and full-scale IQ. There were no significant effects of birth order or sex, except for raw head circumference. The results indicate that these brain measures are tightly correlated with each other and with head circumference, but not with IQ in young, healthy adults."
   ]
  },
  {
   "cell_type": "markdown",
   "id": "7f115c47",
   "metadata": {},
   "source": [
    "# INTRODUCTION"
   ]
  },
  {
   "cell_type": "markdown",
   "id": "29e37bd9",
   "metadata": {},
   "source": [
    "The dataset contains 9 columns and they are\n",
    "CCMIDSA: Corpus Collasum Surface Area (cm2)\n",
    "FIQ: Full-Scale IQ\n",
    "HC: Head Circumference (cm)\n",
    "ORDER: Birth Order\n",
    "PAIR: Pair ID Genotype\n",
    "SEX: Sex \n",
    "TOTSA: Total Surface Area (cm2)\n",
    "TOTVOL: Total Brain Volume (cm3)\n",
    "WEIGHT: Body Weight (kg)\n",
    "\n",
    "The study investigates the genetic influences on brain size, head size, and intelligence quotient (IQ) in monozygotic (MZ) twins. Previous studies have shown evidence of genetic influences on intellectual functions and their derangement in certain neurologic and psychiatric diseases afflicting the forebrain. However, little is known about genetic influences on the size and shape of the human forebrain. The researchers used MRI and quantitative image analysis techniques to examine neuroanatomic similarities in MZ twins and their relationship to head size and IQ. The study aims to shed light on the genetic factors that influence brain and head size, as well as their relationship to IQ, in young, healthy adults."
   ]
  },
  {
   "cell_type": "code",
   "execution_count": 125,
   "id": "9e6c4fa5",
   "metadata": {},
   "outputs": [],
   "source": [
    "import pandas as pd\n",
    "import numpy as np\n",
    "import matplotlib.pyplot as plt\n",
    "import seaborn as sns\n",
    "#import statsmodels.api as sn\n",
    "#from statsmodels.formula.api import ols\n",
    "#import statsmodels.graphics.regressionplots as plt\n",
    "from scipy.stats import shapiro\n",
    "from scipy.stats import mannwhitneyu\n",
    "from scipy.stats import kruskal\n",
    "from sklearn.model_selection import train_test_split\n",
    "from sklearn.linear_model import LinearRegression\n",
    "from sklearn.metrics import mean_squared_error\n",
    "from sklearn.metrics import mean_squared_error\n",
    "from scipy.stats import chi2_contingency\n",
    "\n",
    "\n"
   ]
  },
  {
   "cell_type": "code",
   "execution_count": 22,
   "id": "a53d2f03",
   "metadata": {},
   "outputs": [],
   "source": [
    "df=pd.read_csv('./IQ.csv',index_col=0).reset_index()"
   ]
  },
  {
   "cell_type": "code",
   "execution_count": 23,
   "id": "09cd1aa0",
   "metadata": {},
   "outputs": [
    {
     "data": {
      "text/html": [
       "<div>\n",
       "<style scoped>\n",
       "    .dataframe tbody tr th:only-of-type {\n",
       "        vertical-align: middle;\n",
       "    }\n",
       "\n",
       "    .dataframe tbody tr th {\n",
       "        vertical-align: top;\n",
       "    }\n",
       "\n",
       "    .dataframe thead th {\n",
       "        text-align: right;\n",
       "    }\n",
       "</style>\n",
       "<table border=\"1\" class=\"dataframe\">\n",
       "  <thead>\n",
       "    <tr style=\"text-align: right;\">\n",
       "      <th></th>\n",
       "      <th>CCMIDSA</th>\n",
       "      <th>FIQ</th>\n",
       "      <th>HC</th>\n",
       "      <th>ORDER</th>\n",
       "      <th>PAIR</th>\n",
       "      <th>SEX</th>\n",
       "      <th>TOTSA</th>\n",
       "      <th>TOTVOL</th>\n",
       "      <th>WEIGHT</th>\n",
       "    </tr>\n",
       "  </thead>\n",
       "  <tbody>\n",
       "    <tr>\n",
       "      <th>0</th>\n",
       "      <td>6.08</td>\n",
       "      <td>96</td>\n",
       "      <td>54.7</td>\n",
       "      <td>1</td>\n",
       "      <td>1</td>\n",
       "      <td>F</td>\n",
       "      <td>1913.88</td>\n",
       "      <td>1005</td>\n",
       "      <td>57.607</td>\n",
       "    </tr>\n",
       "    <tr>\n",
       "      <th>1</th>\n",
       "      <td>5.73</td>\n",
       "      <td>89</td>\n",
       "      <td>54.2</td>\n",
       "      <td>2</td>\n",
       "      <td>1</td>\n",
       "      <td>F</td>\n",
       "      <td>1684.89</td>\n",
       "      <td>963</td>\n",
       "      <td>58.968</td>\n",
       "    </tr>\n",
       "    <tr>\n",
       "      <th>2</th>\n",
       "      <td>6.22</td>\n",
       "      <td>87</td>\n",
       "      <td>53.0</td>\n",
       "      <td>1</td>\n",
       "      <td>2</td>\n",
       "      <td>F</td>\n",
       "      <td>1902.36</td>\n",
       "      <td>1035</td>\n",
       "      <td>64.184</td>\n",
       "    </tr>\n",
       "    <tr>\n",
       "      <th>3</th>\n",
       "      <td>5.80</td>\n",
       "      <td>87</td>\n",
       "      <td>52.9</td>\n",
       "      <td>2</td>\n",
       "      <td>2</td>\n",
       "      <td>F</td>\n",
       "      <td>1860.24</td>\n",
       "      <td>1027</td>\n",
       "      <td>58.514</td>\n",
       "    </tr>\n",
       "    <tr>\n",
       "      <th>4</th>\n",
       "      <td>7.99</td>\n",
       "      <td>101</td>\n",
       "      <td>57.8</td>\n",
       "      <td>1</td>\n",
       "      <td>3</td>\n",
       "      <td>F</td>\n",
       "      <td>2264.25</td>\n",
       "      <td>1281</td>\n",
       "      <td>63.958</td>\n",
       "    </tr>\n",
       "    <tr>\n",
       "      <th>5</th>\n",
       "      <td>8.42</td>\n",
       "      <td>103</td>\n",
       "      <td>56.9</td>\n",
       "      <td>2</td>\n",
       "      <td>3</td>\n",
       "      <td>F</td>\n",
       "      <td>2216.40</td>\n",
       "      <td>1272</td>\n",
       "      <td>61.690</td>\n",
       "    </tr>\n",
       "    <tr>\n",
       "      <th>6</th>\n",
       "      <td>7.44</td>\n",
       "      <td>103</td>\n",
       "      <td>56.6</td>\n",
       "      <td>1</td>\n",
       "      <td>4</td>\n",
       "      <td>F</td>\n",
       "      <td>1866.99</td>\n",
       "      <td>1051</td>\n",
       "      <td>133.358</td>\n",
       "    </tr>\n",
       "    <tr>\n",
       "      <th>7</th>\n",
       "      <td>6.84</td>\n",
       "      <td>96</td>\n",
       "      <td>55.3</td>\n",
       "      <td>2</td>\n",
       "      <td>4</td>\n",
       "      <td>F</td>\n",
       "      <td>1850.64</td>\n",
       "      <td>1079</td>\n",
       "      <td>107.503</td>\n",
       "    </tr>\n",
       "    <tr>\n",
       "      <th>8</th>\n",
       "      <td>6.48</td>\n",
       "      <td>127</td>\n",
       "      <td>53.1</td>\n",
       "      <td>1</td>\n",
       "      <td>5</td>\n",
       "      <td>F</td>\n",
       "      <td>1743.04</td>\n",
       "      <td>1034</td>\n",
       "      <td>62.143</td>\n",
       "    </tr>\n",
       "    <tr>\n",
       "      <th>9</th>\n",
       "      <td>6.43</td>\n",
       "      <td>126</td>\n",
       "      <td>54.8</td>\n",
       "      <td>2</td>\n",
       "      <td>5</td>\n",
       "      <td>F</td>\n",
       "      <td>1709.30</td>\n",
       "      <td>1070</td>\n",
       "      <td>83.009</td>\n",
       "    </tr>\n",
       "    <tr>\n",
       "      <th>10</th>\n",
       "      <td>7.99</td>\n",
       "      <td>101</td>\n",
       "      <td>57.2</td>\n",
       "      <td>2</td>\n",
       "      <td>6</td>\n",
       "      <td>M</td>\n",
       "      <td>1689.60</td>\n",
       "      <td>1173</td>\n",
       "      <td>61.236</td>\n",
       "    </tr>\n",
       "    <tr>\n",
       "      <th>11</th>\n",
       "      <td>8.76</td>\n",
       "      <td>96</td>\n",
       "      <td>57.2</td>\n",
       "      <td>1</td>\n",
       "      <td>6</td>\n",
       "      <td>M</td>\n",
       "      <td>1806.31</td>\n",
       "      <td>1079</td>\n",
       "      <td>61.236</td>\n",
       "    </tr>\n",
       "    <tr>\n",
       "      <th>12</th>\n",
       "      <td>6.32</td>\n",
       "      <td>93</td>\n",
       "      <td>57.2</td>\n",
       "      <td>2</td>\n",
       "      <td>7</td>\n",
       "      <td>M</td>\n",
       "      <td>2136.37</td>\n",
       "      <td>1067</td>\n",
       "      <td>83.916</td>\n",
       "    </tr>\n",
       "    <tr>\n",
       "      <th>13</th>\n",
       "      <td>6.32</td>\n",
       "      <td>88</td>\n",
       "      <td>57.2</td>\n",
       "      <td>1</td>\n",
       "      <td>7</td>\n",
       "      <td>M</td>\n",
       "      <td>2018.92</td>\n",
       "      <td>1104</td>\n",
       "      <td>79.380</td>\n",
       "    </tr>\n",
       "    <tr>\n",
       "      <th>14</th>\n",
       "      <td>7.60</td>\n",
       "      <td>94</td>\n",
       "      <td>55.8</td>\n",
       "      <td>2</td>\n",
       "      <td>8</td>\n",
       "      <td>M</td>\n",
       "      <td>1966.81</td>\n",
       "      <td>1347</td>\n",
       "      <td>97.524</td>\n",
       "    </tr>\n",
       "    <tr>\n",
       "      <th>15</th>\n",
       "      <td>7.62</td>\n",
       "      <td>85</td>\n",
       "      <td>57.2</td>\n",
       "      <td>1</td>\n",
       "      <td>8</td>\n",
       "      <td>M</td>\n",
       "      <td>2154.67</td>\n",
       "      <td>1439</td>\n",
       "      <td>99.792</td>\n",
       "    </tr>\n",
       "    <tr>\n",
       "      <th>16</th>\n",
       "      <td>6.03</td>\n",
       "      <td>97</td>\n",
       "      <td>57.2</td>\n",
       "      <td>1</td>\n",
       "      <td>9</td>\n",
       "      <td>M</td>\n",
       "      <td>1767.56</td>\n",
       "      <td>1029</td>\n",
       "      <td>81.648</td>\n",
       "    </tr>\n",
       "    <tr>\n",
       "      <th>17</th>\n",
       "      <td>6.59</td>\n",
       "      <td>114</td>\n",
       "      <td>56.5</td>\n",
       "      <td>2</td>\n",
       "      <td>9</td>\n",
       "      <td>M</td>\n",
       "      <td>1827.92</td>\n",
       "      <td>1100</td>\n",
       "      <td>88.452</td>\n",
       "    </tr>\n",
       "    <tr>\n",
       "      <th>18</th>\n",
       "      <td>7.52</td>\n",
       "      <td>113</td>\n",
       "      <td>59.2</td>\n",
       "      <td>2</td>\n",
       "      <td>10</td>\n",
       "      <td>M</td>\n",
       "      <td>1773.83</td>\n",
       "      <td>1204</td>\n",
       "      <td>79.380</td>\n",
       "    </tr>\n",
       "    <tr>\n",
       "      <th>19</th>\n",
       "      <td>7.67</td>\n",
       "      <td>124</td>\n",
       "      <td>58.5</td>\n",
       "      <td>1</td>\n",
       "      <td>10</td>\n",
       "      <td>M</td>\n",
       "      <td>1971.63</td>\n",
       "      <td>1160</td>\n",
       "      <td>72.576</td>\n",
       "    </tr>\n",
       "  </tbody>\n",
       "</table>\n",
       "</div>"
      ],
      "text/plain": [
       "    CCMIDSA  FIQ    HC  ORDER  PAIR SEX    TOTSA  TOTVOL   WEIGHT\n",
       "0      6.08   96  54.7      1     1   F  1913.88    1005   57.607\n",
       "1      5.73   89  54.2      2     1   F  1684.89     963   58.968\n",
       "2      6.22   87  53.0      1     2   F  1902.36    1035   64.184\n",
       "3      5.80   87  52.9      2     2   F  1860.24    1027   58.514\n",
       "4      7.99  101  57.8      1     3   F  2264.25    1281   63.958\n",
       "5      8.42  103  56.9      2     3   F  2216.40    1272   61.690\n",
       "6      7.44  103  56.6      1     4   F  1866.99    1051  133.358\n",
       "7      6.84   96  55.3      2     4   F  1850.64    1079  107.503\n",
       "8      6.48  127  53.1      1     5   F  1743.04    1034   62.143\n",
       "9      6.43  126  54.8      2     5   F  1709.30    1070   83.009\n",
       "10     7.99  101  57.2      2     6   M  1689.60    1173   61.236\n",
       "11     8.76   96  57.2      1     6   M  1806.31    1079   61.236\n",
       "12     6.32   93  57.2      2     7   M  2136.37    1067   83.916\n",
       "13     6.32   88  57.2      1     7   M  2018.92    1104   79.380\n",
       "14     7.60   94  55.8      2     8   M  1966.81    1347   97.524\n",
       "15     7.62   85  57.2      1     8   M  2154.67    1439   99.792\n",
       "16     6.03   97  57.2      1     9   M  1767.56    1029   81.648\n",
       "17     6.59  114  56.5      2     9   M  1827.92    1100   88.452\n",
       "18     7.52  113  59.2      2    10   M  1773.83    1204   79.380\n",
       "19     7.67  124  58.5      1    10   M  1971.63    1160   72.576"
      ]
     },
     "execution_count": 23,
     "metadata": {},
     "output_type": "execute_result"
    }
   ],
   "source": [
    "df"
   ]
  },
  {
   "cell_type": "code",
   "execution_count": 24,
   "id": "887baebb",
   "metadata": {},
   "outputs": [
    {
     "name": "stdout",
     "output_type": "stream",
     "text": [
      "<class 'pandas.core.frame.DataFrame'>\n",
      "RangeIndex: 20 entries, 0 to 19\n",
      "Data columns (total 9 columns):\n",
      " #   Column   Non-Null Count  Dtype  \n",
      "---  ------   --------------  -----  \n",
      " 0   CCMIDSA  20 non-null     float64\n",
      " 1   FIQ      20 non-null     int64  \n",
      " 2   HC       20 non-null     float64\n",
      " 3   ORDER    20 non-null     int64  \n",
      " 4   PAIR     20 non-null     int64  \n",
      " 5   SEX      20 non-null     object \n",
      " 6   TOTSA    20 non-null     float64\n",
      " 7   TOTVOL   20 non-null     int64  \n",
      " 8   WEIGHT   20 non-null     float64\n",
      "dtypes: float64(4), int64(4), object(1)\n",
      "memory usage: 1.5+ KB\n"
     ]
    }
   ],
   "source": [
    "df.info()"
   ]
  },
  {
   "cell_type": "markdown",
   "id": "f4d1c57c",
   "metadata": {},
   "source": [
    "# Data Visualization"
   ]
  },
  {
   "cell_type": "code",
   "execution_count": 94,
   "id": "21dfedd2",
   "metadata": {},
   "outputs": [
    {
     "data": {
      "image/png": "[encoded data removed]",
      "text/plain": [
       "<Figure size 640x480 with 2 Axes>"
      ]
     },
     "metadata": {},
     "output_type": "display_data"
    }
   ],
   "source": [
    "correlations = df.corr()\n",
    "#sns.heatmap(correlations, annot=True, cmap='coolwarm')\n",
    "sns.heatmap(correlations, annot = True, cmap=sns.cubehelix_palette(as_cmap=True))\n",
    "plt.show()"
   ]
  },
  {
   "cell_type": "code",
   "execution_count": 96,
   "id": "1d4a2bc0",
   "metadata": {},
   "outputs": [
    {
     "data": {
      "image/png": "[encoded data removed]",
      "text/plain": [
       "<Figure size 640x480 with 1 Axes>"
      ]
     },
     "metadata": {},
     "output_type": "display_data"
    }
   ],
   "source": [
    "sns.scatterplot(x=\"SEX\", y=\"FIQ\", data=df)\n",
    "sns.despine()"
   ]
  },
  {
   "cell_type": "code",
   "execution_count": 48,
   "id": "47add841",
   "metadata": {},
   "outputs": [],
   "source": [
    "sample2=df[df['SEX']=='F']['FIQ']\n",
    "sample1=df[df['SEX']=='M']['FIQ']\n",
    "sample = np.concatenate((sample2, sample1))"
   ]
  },
  {
   "cell_type": "markdown",
   "id": "f77019b9",
   "metadata": {},
   "source": [
    "# Since the rows are less than 30 we perform Shapiro test"
   ]
  },
  {
   "cell_type": "code",
   "execution_count": 78,
   "id": "0b78c13d",
   "metadata": {},
   "outputs": [
    {
     "name": "stdout",
     "output_type": "stream",
     "text": [
      "The data is not normal columns for Sex and FIQ\n"
     ]
    }
   ],
   "source": [
    "stat, p = shapiro(sample)\n",
    "alpha = 0.05\n",
    "if p > alpha:\n",
    "    print('The data is normal for  columns Sex and FIQ')\n",
    "else:\n",
    "    print('The data is not normal columns for Sex and FIQ')"
   ]
  },
  {
   "cell_type": "markdown",
   "id": "de323f0a",
   "metadata": {},
   "source": [
    "# Since the data is not normal we perform Mannwhitney test"
   ]
  },
  {
   "cell_type": "markdown",
   "id": "0f28fe26",
   "metadata": {},
   "source": [
    "We assume \n",
    "\n",
    "$H_0$: There is no significant difference in FIQ between Male and female <br>\n",
    "$H_1$: Reject $H_0$"
   ]
  },
  {
   "cell_type": "code",
   "execution_count": 102,
   "id": "a6ecd47d",
   "metadata": {},
   "outputs": [
    {
     "name": "stdout",
     "output_type": "stream",
     "text": [
      "There is no significant difference in FIQ between male and female, so we cannot reject H0 .\n"
     ]
    },
    {
     "data": {
      "image/png": "[encoded data removed]",
      "text/plain": [
       "<Figure size 640x480 with 1 Axes>"
      ]
     },
     "metadata": {},
     "output_type": "display_data"
    }
   ],
   "source": [
    "sample1 = df[df['SEX'] == 'M']['FIQ']\n",
    "sample2 = df[df['SEX'] == 'F']['FIQ']\n",
    "stat, p = mannwhitneyu(sample1, sample2)\n",
    "\n",
    "alpha = 0.05\n",
    "if p > alpha:\n",
    "    print('There is no significant difference in FIQ between male and female, so we cannot reject H0 .')\n",
    "else:\n",
    "    print('There is a significant difference in FIQ between male and female, reject H0 .')\n",
    "#print(stat)\n",
    "#print(p)\n",
    "sns.boxplot(x='SEX', y='FIQ', data=df)\n",
    "sns.stripplot(x='SEX', y='FIQ', data=df, color='Green')\n",
    "plt.title('Mann-Whitney U Test')\n",
    "plt.show()"
   ]
  },
  {
   "cell_type": "markdown",
   "id": "a6d697ab",
   "metadata": {},
   "source": [
    "# We perform Kruskal for analysis of variance"
   ]
  },
  {
   "cell_type": "markdown",
   "id": "8d948f67",
   "metadata": {},
   "source": [
    "We assume\n",
    "\n",
    "H0: there is no significant difference in the distribution of FIQ scores between male and female. \n",
    "H1: reject H0"
   ]
  },
  {
   "cell_type": "code",
   "execution_count": 103,
   "id": "d4afa4d4",
   "metadata": {},
   "outputs": [
    {
     "name": "stdout",
     "output_type": "stream",
     "text": [
      "There is no significant difference in FIQ between male and female subjects, so we cannot reject H0.\n"
     ]
    },
    {
     "data": {
      "text/plain": [
       "Text(0.5, 1.0, 'Distribution of FIQ by Sex')"
      ]
     },
     "execution_count": 103,
     "metadata": {},
     "output_type": "execute_result"
    },
    {
     "data": {
      "image/png": "[encoded data removed]",
      "text/plain": [
       "<Figure size 640x480 with 1 Axes>"
      ]
     },
     "metadata": {},
     "output_type": "display_data"
    }
   ],
   "source": [
    "stat, p = kruskal(sample1, sample2)\n",
    "alpha = 0.05\n",
    "if p > alpha:\n",
    "    print('There is no significant difference in FIQ between male and female subjects, so we cannot reject H0.')\n",
    "else:\n",
    "    print('There is a significant difference in FIQ between male and female subjects, reject H0.')\n",
    "#print(stat)\n",
    "#print(p)\n",
    "sns.boxplot(x='SEX', y='FIQ', data=df)\n",
    "plt.title('Distribution of FIQ by Sex')"
   ]
  },
  {
   "cell_type": "code",
   "execution_count": 104,
   "id": "1f4877ed",
   "metadata": {},
   "outputs": [
    {
     "name": "stdout",
     "output_type": "stream",
     "text": [
      "CCMIDSA    0.156252\n",
      "FIQ        1.000000\n",
      "HC         0.137840\n",
      "ORDER      0.046597\n",
      "PAIR       0.332572\n",
      "TOTSA     -0.291319\n",
      "TOTVOL    -0.063392\n",
      "WEIGHT    -0.002703\n",
      "Name: FIQ, dtype: float64\n"
     ]
    }
   ],
   "source": [
    "print(correlations['FIQ'])"
   ]
  },
  {
   "cell_type": "markdown",
   "id": "0fd60e3e",
   "metadata": {},
   "source": [
    "# Analysis of categorical data"
   ]
  },
  {
   "cell_type": "code",
   "execution_count": 119,
   "id": "00ad18ba",
   "metadata": {},
   "outputs": [
    {
     "name": "stdout",
     "output_type": "stream",
     "text": [
      "F    10\n",
      "M    10\n",
      "Name: SEX, dtype: int64\n"
     ]
    },
    {
     "data": {
      "image/png": "[encoded data removed]",
      "text/plain": [
       "<Figure size 640x480 with 1 Axes>"
      ]
     },
     "metadata": {},
     "output_type": "display_data"
    }
   ],
   "source": [
    "freq = df['SEX'].value_counts()\n",
    "freq.plot(kind='bar')\n",
    "print(freq)\n",
    "plt.title('Sex')\n",
    "plt.xlabel('Sex')\n",
    "plt.ylabel('Frequency')\n",
    "plt.show()"
   ]
  },
  {
   "cell_type": "code",
   "execution_count": 135,
   "id": "b2353fbe",
   "metadata": {},
   "outputs": [
    {
     "data": {
      "image/png": "[encoded data removed]",
      "text/plain": [
       "<Figure size 640x480 with 1 Axes>"
      ]
     },
     "metadata": {},
     "output_type": "display_data"
    }
   ],
   "source": [
    "freq = df['PAIR'].value_counts()\n",
    "freq.plot(kind='bar')\n",
    "#print(freq)\n",
    "plt.title('PAIR')\n",
    "plt.xlabel('PAIR')\n",
    "plt.ylabel('Frequency')\n",
    "plt.show()"
   ]
  },
  {
   "cell_type": "markdown",
   "id": "262222d5",
   "metadata": {},
   "source": [
    "We assume \n",
    "\n",
    "$H_0$: There is no significant difference in SEX and PAIR <br>\n",
    "$H_1$: Reject $H_0$"
   ]
  },
  {
   "cell_type": "code",
   "execution_count": 127,
   "id": "fb3dd19a",
   "metadata": {},
   "outputs": [
    {
     "name": "stdout",
     "output_type": "stream",
     "text": [
      "Chi-square statistic: 20.0\n",
      "P-value: 0.017912404529843298\n"
     ]
    }
   ],
   "source": [
    "con = pd.crosstab(df['PAIR'], df['SEX'])\n",
    "chi2, p, dof, expected = chi2_contingency(con)\n",
    "print('Chi-square statistic:', chi2)\n",
    "print('P-value:', p)"
   ]
  },
  {
   "cell_type": "markdown",
   "id": "a05cf1c8",
   "metadata": {},
   "source": [
    " It indicates that there is a statistically significant association between the PAIR and SEX being compared. The two variables are not independent and there is evidence to suggest that they are related or dependent on each other."
   ]
  },
  {
   "cell_type": "markdown",
   "id": "52bf9fb2",
   "metadata": {},
   "source": [
    "SO we can reject the null hypothesis (H0)"
   ]
  },
  {
   "cell_type": "markdown",
   "id": "78152af2",
   "metadata": {},
   "source": [
    "We assume \n",
    "\n",
    "$H_0$: There is no significant difference in SEX and ORDER <br>\n",
    "$H_1$: Reject $H_0$"
   ]
  },
  {
   "cell_type": "code",
   "execution_count": 134,
   "id": "4c360b7b",
   "metadata": {},
   "outputs": [
    {
     "name": "stdout",
     "output_type": "stream",
     "text": [
      "Chi-square statistic: 0.0\n",
      "P-value: 1.0\n"
     ]
    }
   ],
   "source": [
    "con = pd.crosstab(df['SEX'], df['ORDER'])\n",
    "chi2, p, dof, expected = chi2_contingency(con)\n",
    "print('Chi-square statistic:', chi2)\n",
    "print('P-value:', p)"
   ]
  },
  {
   "cell_type": "markdown",
   "id": "820b04bc",
   "metadata": {},
   "source": [
    "We cannot reject H0 as we can see there is no significant association between SEX and ORDER"
   ]
  },
  {
   "cell_type": "code",
   "execution_count": 137,
   "id": "176ff9d0",
   "metadata": {},
   "outputs": [
    {
     "data": {
      "text/html": [
       "<div>\n",
       "<style scoped>\n",
       "    .dataframe tbody tr th:only-of-type {\n",
       "        vertical-align: middle;\n",
       "    }\n",
       "\n",
       "    .dataframe tbody tr th {\n",
       "        vertical-align: top;\n",
       "    }\n",
       "\n",
       "    .dataframe thead th {\n",
       "        text-align: right;\n",
       "    }\n",
       "</style>\n",
       "<table border=\"1\" class=\"dataframe\">\n",
       "  <thead>\n",
       "    <tr style=\"text-align: right;\">\n",
       "      <th></th>\n",
       "      <th>CCMIDSA</th>\n",
       "      <th>FIQ</th>\n",
       "      <th>HC</th>\n",
       "      <th>ORDER</th>\n",
       "      <th>PAIR</th>\n",
       "      <th>TOTSA</th>\n",
       "      <th>TOTVOL</th>\n",
       "      <th>WEIGHT</th>\n",
       "    </tr>\n",
       "  </thead>\n",
       "  <tbody>\n",
       "    <tr>\n",
       "      <th>0</th>\n",
       "      <td>6.08</td>\n",
       "      <td>96</td>\n",
       "      <td>54.7</td>\n",
       "      <td>1</td>\n",
       "      <td>1</td>\n",
       "      <td>1913.88</td>\n",
       "      <td>1005</td>\n",
       "      <td>57.607</td>\n",
       "    </tr>\n",
       "    <tr>\n",
       "      <th>1</th>\n",
       "      <td>5.73</td>\n",
       "      <td>89</td>\n",
       "      <td>54.2</td>\n",
       "      <td>2</td>\n",
       "      <td>1</td>\n",
       "      <td>1684.89</td>\n",
       "      <td>963</td>\n",
       "      <td>58.968</td>\n",
       "    </tr>\n",
       "    <tr>\n",
       "      <th>2</th>\n",
       "      <td>6.22</td>\n",
       "      <td>87</td>\n",
       "      <td>53.0</td>\n",
       "      <td>1</td>\n",
       "      <td>2</td>\n",
       "      <td>1902.36</td>\n",
       "      <td>1035</td>\n",
       "      <td>64.184</td>\n",
       "    </tr>\n",
       "    <tr>\n",
       "      <th>3</th>\n",
       "      <td>5.80</td>\n",
       "      <td>87</td>\n",
       "      <td>52.9</td>\n",
       "      <td>2</td>\n",
       "      <td>2</td>\n",
       "      <td>1860.24</td>\n",
       "      <td>1027</td>\n",
       "      <td>58.514</td>\n",
       "    </tr>\n",
       "    <tr>\n",
       "      <th>4</th>\n",
       "      <td>7.99</td>\n",
       "      <td>101</td>\n",
       "      <td>57.8</td>\n",
       "      <td>1</td>\n",
       "      <td>3</td>\n",
       "      <td>2264.25</td>\n",
       "      <td>1281</td>\n",
       "      <td>63.958</td>\n",
       "    </tr>\n",
       "    <tr>\n",
       "      <th>5</th>\n",
       "      <td>8.42</td>\n",
       "      <td>103</td>\n",
       "      <td>56.9</td>\n",
       "      <td>2</td>\n",
       "      <td>3</td>\n",
       "      <td>2216.40</td>\n",
       "      <td>1272</td>\n",
       "      <td>61.690</td>\n",
       "    </tr>\n",
       "    <tr>\n",
       "      <th>6</th>\n",
       "      <td>7.44</td>\n",
       "      <td>103</td>\n",
       "      <td>56.6</td>\n",
       "      <td>1</td>\n",
       "      <td>4</td>\n",
       "      <td>1866.99</td>\n",
       "      <td>1051</td>\n",
       "      <td>133.358</td>\n",
       "    </tr>\n",
       "    <tr>\n",
       "      <th>7</th>\n",
       "      <td>6.84</td>\n",
       "      <td>96</td>\n",
       "      <td>55.3</td>\n",
       "      <td>2</td>\n",
       "      <td>4</td>\n",
       "      <td>1850.64</td>\n",
       "      <td>1079</td>\n",
       "      <td>107.503</td>\n",
       "    </tr>\n",
       "    <tr>\n",
       "      <th>8</th>\n",
       "      <td>6.48</td>\n",
       "      <td>127</td>\n",
       "      <td>53.1</td>\n",
       "      <td>1</td>\n",
       "      <td>5</td>\n",
       "      <td>1743.04</td>\n",
       "      <td>1034</td>\n",
       "      <td>62.143</td>\n",
       "    </tr>\n",
       "    <tr>\n",
       "      <th>9</th>\n",
       "      <td>6.43</td>\n",
       "      <td>126</td>\n",
       "      <td>54.8</td>\n",
       "      <td>2</td>\n",
       "      <td>5</td>\n",
       "      <td>1709.30</td>\n",
       "      <td>1070</td>\n",
       "      <td>83.009</td>\n",
       "    </tr>\n",
       "    <tr>\n",
       "      <th>10</th>\n",
       "      <td>7.99</td>\n",
       "      <td>101</td>\n",
       "      <td>57.2</td>\n",
       "      <td>2</td>\n",
       "      <td>6</td>\n",
       "      <td>1689.60</td>\n",
       "      <td>1173</td>\n",
       "      <td>61.236</td>\n",
       "    </tr>\n",
       "    <tr>\n",
       "      <th>11</th>\n",
       "      <td>8.76</td>\n",
       "      <td>96</td>\n",
       "      <td>57.2</td>\n",
       "      <td>1</td>\n",
       "      <td>6</td>\n",
       "      <td>1806.31</td>\n",
       "      <td>1079</td>\n",
       "      <td>61.236</td>\n",
       "    </tr>\n",
       "    <tr>\n",
       "      <th>12</th>\n",
       "      <td>6.32</td>\n",
       "      <td>93</td>\n",
       "      <td>57.2</td>\n",
       "      <td>2</td>\n",
       "      <td>7</td>\n",
       "      <td>2136.37</td>\n",
       "      <td>1067</td>\n",
       "      <td>83.916</td>\n",
       "    </tr>\n",
       "    <tr>\n",
       "      <th>13</th>\n",
       "      <td>6.32</td>\n",
       "      <td>88</td>\n",
       "      <td>57.2</td>\n",
       "      <td>1</td>\n",
       "      <td>7</td>\n",
       "      <td>2018.92</td>\n",
       "      <td>1104</td>\n",
       "      <td>79.380</td>\n",
       "    </tr>\n",
       "    <tr>\n",
       "      <th>14</th>\n",
       "      <td>7.60</td>\n",
       "      <td>94</td>\n",
       "      <td>55.8</td>\n",
       "      <td>2</td>\n",
       "      <td>8</td>\n",
       "      <td>1966.81</td>\n",
       "      <td>1347</td>\n",
       "      <td>97.524</td>\n",
       "    </tr>\n",
       "    <tr>\n",
       "      <th>15</th>\n",
       "      <td>7.62</td>\n",
       "      <td>85</td>\n",
       "      <td>57.2</td>\n",
       "      <td>1</td>\n",
       "      <td>8</td>\n",
       "      <td>2154.67</td>\n",
       "      <td>1439</td>\n",
       "      <td>99.792</td>\n",
       "    </tr>\n",
       "    <tr>\n",
       "      <th>16</th>\n",
       "      <td>6.03</td>\n",
       "      <td>97</td>\n",
       "      <td>57.2</td>\n",
       "      <td>1</td>\n",
       "      <td>9</td>\n",
       "      <td>1767.56</td>\n",
       "      <td>1029</td>\n",
       "      <td>81.648</td>\n",
       "    </tr>\n",
       "    <tr>\n",
       "      <th>17</th>\n",
       "      <td>6.59</td>\n",
       "      <td>114</td>\n",
       "      <td>56.5</td>\n",
       "      <td>2</td>\n",
       "      <td>9</td>\n",
       "      <td>1827.92</td>\n",
       "      <td>1100</td>\n",
       "      <td>88.452</td>\n",
       "    </tr>\n",
       "    <tr>\n",
       "      <th>18</th>\n",
       "      <td>7.52</td>\n",
       "      <td>113</td>\n",
       "      <td>59.2</td>\n",
       "      <td>2</td>\n",
       "      <td>10</td>\n",
       "      <td>1773.83</td>\n",
       "      <td>1204</td>\n",
       "      <td>79.380</td>\n",
       "    </tr>\n",
       "    <tr>\n",
       "      <th>19</th>\n",
       "      <td>7.67</td>\n",
       "      <td>124</td>\n",
       "      <td>58.5</td>\n",
       "      <td>1</td>\n",
       "      <td>10</td>\n",
       "      <td>1971.63</td>\n",
       "      <td>1160</td>\n",
       "      <td>72.576</td>\n",
       "    </tr>\n",
       "  </tbody>\n",
       "</table>\n",
       "</div>"
      ],
      "text/plain": [
       "    CCMIDSA  FIQ    HC  ORDER  PAIR    TOTSA  TOTVOL   WEIGHT\n",
       "0      6.08   96  54.7      1     1  1913.88    1005   57.607\n",
       "1      5.73   89  54.2      2     1  1684.89     963   58.968\n",
       "2      6.22   87  53.0      1     2  1902.36    1035   64.184\n",
       "3      5.80   87  52.9      2     2  1860.24    1027   58.514\n",
       "4      7.99  101  57.8      1     3  2264.25    1281   63.958\n",
       "5      8.42  103  56.9      2     3  2216.40    1272   61.690\n",
       "6      7.44  103  56.6      1     4  1866.99    1051  133.358\n",
       "7      6.84   96  55.3      2     4  1850.64    1079  107.503\n",
       "8      6.48  127  53.1      1     5  1743.04    1034   62.143\n",
       "9      6.43  126  54.8      2     5  1709.30    1070   83.009\n",
       "10     7.99  101  57.2      2     6  1689.60    1173   61.236\n",
       "11     8.76   96  57.2      1     6  1806.31    1079   61.236\n",
       "12     6.32   93  57.2      2     7  2136.37    1067   83.916\n",
       "13     6.32   88  57.2      1     7  2018.92    1104   79.380\n",
       "14     7.60   94  55.8      2     8  1966.81    1347   97.524\n",
       "15     7.62   85  57.2      1     8  2154.67    1439   99.792\n",
       "16     6.03   97  57.2      1     9  1767.56    1029   81.648\n",
       "17     6.59  114  56.5      2     9  1827.92    1100   88.452\n",
       "18     7.52  113  59.2      2    10  1773.83    1204   79.380\n",
       "19     7.67  124  58.5      1    10  1971.63    1160   72.576"
      ]
     },
     "execution_count": 137,
     "metadata": {},
     "output_type": "execute_result"
    }
   ],
   "source": [
    "target = ['FIQ']\n",
    "df.drop(columns=['SEX'])"
   ]
  },
  {
   "cell_type": "markdown",
   "id": "76947455",
   "metadata": {},
   "source": [
    "# Linear Regression"
   ]
  },
  {
   "cell_type": "code",
   "execution_count": 149,
   "id": "79628879",
   "metadata": {},
   "outputs": [
    {
     "name": "stdout",
     "output_type": "stream",
     "text": [
      "R2 Score for CCMIDSA: 0.024593368571406926\n",
      "R2 Score for HC: 0.012169481866225684\n",
      "R2 Score for ORDER: 0.0023173896922507042\n",
      "R2 Score for PAIR: 0.09030671195178563\n",
      "R2 Score for TOTSA: 0.08756032730500418\n",
      "R2 Score for TOTVOL: 0.0015216628137632027\n",
      "R2 Score for WEIGHT: 0.001081324231900882\n"
     ]
    }
   ],
   "source": [
    "from sklearn.model_selection import train_test_split\n",
    "df1 = df.drop(\"SEX\", axis=1)\n",
    "X_train, X_test, y_train, y_test = train_test_split(df1.drop(target, axis=1), df1[target], test_size=0.2, random_state=42)\n",
    "\n",
    "acc = []\n",
    "\n",
    "for col in X_train.columns:\n",
    "    model = LinearRegression()\n",
    "    model.fit(X_train[[col]], y_train)\n",
    "\n",
    "    train_score = model.score(X_train[[col]], y_train)\n",
    "    test_score = model.score(X_test[[col]], y_test)\n",
    "    \n",
    "    acc.append((col, train_score, test_score))\n",
    "for result in acc:\n",
    "    feature = result[0]\n",
    "    R2_score = result[1]\n",
    "    test_score = result[2]\n",
    "    #print(\"Feature: \" + str(feature))\n",
    "    print(f\"R2 Score for {str(feature)}: \" + str(R2_score))\n",
    "    #print(f\"R2 Score for {str(feature)}: \" + str(test_score))\n"
   ]
  },
  {
   "cell_type": "code",
   "execution_count": null,
   "id": "89225477",
   "metadata": {},
   "outputs": [],
   "source": []
  }
 ],
 "metadata": {
  "kernelspec": {
   "display_name": "Python 3 (ipykernel)",
   "language": "python",
   "name": "python3"
  },
  "language_info": {
   "codemirror_mode": {
    "name": "ipython",
    "version": 3
   },
   "file_extension": ".py",
   "mimetype": "text/x-python",
   "name": "python",
   "nbconvert_exporter": "python",
   "pygments_lexer": "ipython3",
   "version": "3.9.13"
  }
 },
 "nbformat": 4,
 "nbformat_minor": 5
}
